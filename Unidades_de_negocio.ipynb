{
  "cells": [
    {
      "cell_type": "code",
      "execution_count": null,
      "metadata": {
        "id": "hIuQgRPG0Cms"
      },
      "outputs": [],
      "source": [
        "import pandas as pd\n",
        "\n",
        "df_creditcard = pd.read_csv(\"/content/drive/MyDrive/Colab Notebooks/creditcard.csv\")\n",
        "df_loan=pd.read_csv(\"/content/drive/MyDrive/Colab Notebooks/loan_applications.csv\")\n",
        "df_transaction=pd.read_csv(\"/content/drive/MyDrive/Colab Notebooks/transactions.csv\")"
      ]
    },
    {
      "cell_type": "code",
      "execution_count": null,
      "metadata": {
        "colab": {
          "base_uri": "https://localhost:8080/",
          "height": 178
        },
        "id": "WGwMyGRZ1rKh",
        "outputId": "bb2d2221-36ab-4801-fb82-302d872ce570"
      },
      "outputs": [
        {
          "data": {
            "text/html": [
              "<div>\n",
              "<style scoped>\n",
              "    .dataframe tbody tr th:only-of-type {\n",
              "        vertical-align: middle;\n",
              "    }\n",
              "\n",
              "    .dataframe tbody tr th {\n",
              "        vertical-align: top;\n",
              "    }\n",
              "\n",
              "    .dataframe thead th {\n",
              "        text-align: right;\n",
              "    }\n",
              "</style>\n",
              "<table border=\"1\" class=\"dataframe\">\n",
              "  <thead>\n",
              "    <tr style=\"text-align: right;\">\n",
              "      <th></th>\n",
              "      <th>count</th>\n",
              "    </tr>\n",
              "    <tr>\n",
              "      <th>fraud_flag</th>\n",
              "      <th></th>\n",
              "    </tr>\n",
              "  </thead>\n",
              "  <tbody>\n",
              "    <tr>\n",
              "      <th>0</th>\n",
              "      <td>284315</td>\n",
              "    </tr>\n",
              "    <tr>\n",
              "      <th>1</th>\n",
              "      <td>492</td>\n",
              "    </tr>\n",
              "  </tbody>\n",
              "</table>\n",
              "</div><br><label><b>dtype:</b> int64</label>"
            ],
            "text/plain": [
              "fraud_flag\n",
              "0    284315\n",
              "1       492\n",
              "Name: count, dtype: int64"
            ]
          },
          "execution_count": 7,
          "metadata": {},
          "output_type": "execute_result"
        }
      ],
      "source": [
        "df_creditcard.rename(columns={\"Class\": \"fraud_flag\"}, inplace=True)\n",
        "\n",
        "df_creditcard[\"fraud_flag\"].value_counts() #Porcentaje de transacciones NO fraudulentas y fraudulentas"
      ]
    },
    {
      "cell_type": "code",
      "execution_count": null,
      "metadata": {
        "colab": {
          "base_uri": "https://localhost:8080/",
          "height": 178
        },
        "id": "SoZReujP1uJC",
        "outputId": "60a106c9-91f6-4c34-93af-fd005be19120"
      },
      "outputs": [
        {
          "data": {
            "text/html": [
              "<div>\n",
              "<style scoped>\n",
              "    .dataframe tbody tr th:only-of-type {\n",
              "        vertical-align: middle;\n",
              "    }\n",
              "\n",
              "    .dataframe tbody tr th {\n",
              "        vertical-align: top;\n",
              "    }\n",
              "\n",
              "    .dataframe thead th {\n",
              "        text-align: right;\n",
              "    }\n",
              "</style>\n",
              "<table border=\"1\" class=\"dataframe\">\n",
              "  <thead>\n",
              "    <tr style=\"text-align: right;\">\n",
              "      <th></th>\n",
              "      <th>count</th>\n",
              "    </tr>\n",
              "    <tr>\n",
              "      <th>fraud_flag</th>\n",
              "      <th></th>\n",
              "    </tr>\n",
              "  </thead>\n",
              "  <tbody>\n",
              "    <tr>\n",
              "      <th>0</th>\n",
              "      <td>48974</td>\n",
              "    </tr>\n",
              "    <tr>\n",
              "      <th>1</th>\n",
              "      <td>1026</td>\n",
              "    </tr>\n",
              "  </tbody>\n",
              "</table>\n",
              "</div><br><label><b>dtype:</b> int64</label>"
            ],
            "text/plain": [
              "fraud_flag\n",
              "0    48974\n",
              "1     1026\n",
              "Name: count, dtype: int64"
            ]
          },
          "execution_count": 8,
          "metadata": {},
          "output_type": "execute_result"
        }
      ],
      "source": [
        "df_loan[\"fraud_flag\"].value_counts()"
      ]
    },
    {
      "cell_type": "code",
      "execution_count": null,
      "metadata": {
        "colab": {
          "base_uri": "https://localhost:8080/",
          "height": 178
        },
        "id": "e-YZeUNN10GP",
        "outputId": "07b8eaf2-24e4-44c3-b93b-8e049748ce44"
      },
      "outputs": [
        {
          "data": {
            "text/html": [
              "<div>\n",
              "<style scoped>\n",
              "    .dataframe tbody tr th:only-of-type {\n",
              "        vertical-align: middle;\n",
              "    }\n",
              "\n",
              "    .dataframe tbody tr th {\n",
              "        vertical-align: top;\n",
              "    }\n",
              "\n",
              "    .dataframe thead th {\n",
              "        text-align: right;\n",
              "    }\n",
              "</style>\n",
              "<table border=\"1\" class=\"dataframe\">\n",
              "  <thead>\n",
              "    <tr style=\"text-align: right;\">\n",
              "      <th></th>\n",
              "      <th>count</th>\n",
              "    </tr>\n",
              "    <tr>\n",
              "      <th>fraud_flag</th>\n",
              "      <th></th>\n",
              "    </tr>\n",
              "  </thead>\n",
              "  <tbody>\n",
              "    <tr>\n",
              "      <th>0</th>\n",
              "      <td>49498</td>\n",
              "    </tr>\n",
              "    <tr>\n",
              "      <th>1</th>\n",
              "      <td>502</td>\n",
              "    </tr>\n",
              "  </tbody>\n",
              "</table>\n",
              "</div><br><label><b>dtype:</b> int64</label>"
            ],
            "text/plain": [
              "fraud_flag\n",
              "0    49498\n",
              "1      502\n",
              "Name: count, dtype: int64"
            ]
          },
          "execution_count": 9,
          "metadata": {},
          "output_type": "execute_result"
        }
      ],
      "source": [
        "df_transaction[\"fraud_flag\"].value_counts()"
      ]
    },
    {
      "cell_type": "code",
      "execution_count": null,
      "metadata": {
        "colab": {
          "base_uri": "https://localhost:8080/",
          "height": 178
        },
        "id": "3nVJ44M55Fto",
        "outputId": "b35461c0-2383-4446-d068-ad78a815f48c"
      },
      "outputs": [
        {
          "data": {
            "text/html": [
              "<div>\n",
              "<style scoped>\n",
              "    .dataframe tbody tr th:only-of-type {\n",
              "        vertical-align: middle;\n",
              "    }\n",
              "\n",
              "    .dataframe tbody tr th {\n",
              "        vertical-align: top;\n",
              "    }\n",
              "\n",
              "    .dataframe thead th {\n",
              "        text-align: right;\n",
              "    }\n",
              "</style>\n",
              "<table border=\"1\" class=\"dataframe\">\n",
              "  <thead>\n",
              "    <tr style=\"text-align: right;\">\n",
              "      <th></th>\n",
              "      <th>proportion</th>\n",
              "    </tr>\n",
              "    <tr>\n",
              "      <th>Class</th>\n",
              "      <th></th>\n",
              "    </tr>\n",
              "  </thead>\n",
              "  <tbody>\n",
              "    <tr>\n",
              "      <th>0</th>\n",
              "      <td>99.828</td>\n",
              "    </tr>\n",
              "    <tr>\n",
              "      <th>1</th>\n",
              "      <td>0.172</td>\n",
              "    </tr>\n",
              "  </tbody>\n",
              "</table>\n",
              "</div><br><label><b>dtype:</b> float64</label>"
            ],
            "text/plain": [
              "Class\n",
              "0    99.828\n",
              "1     0.172\n",
              "Name: proportion, dtype: float64"
            ]
          },
          "execution_count": 34,
          "metadata": {},
          "output_type": "execute_result"
        }
      ],
      "source": [
        "from sklearn.model_selection import train_test_split\n",
        "df_credit_sample, _ = train_test_split(df_creditcard, train_size=50000, stratify=df_creditcard['Class'], random_state=42)\n",
        "df_credit_sample[\"Class\"].value_counts(normalize=True) * 100\n"
      ]
    },
    {
      "cell_type": "code",
      "execution_count": null,
      "metadata": {
        "colab": {
          "base_uri": "https://localhost:8080/"
        },
        "id": "rqEUrHFV6jLE",
        "outputId": "84e5e66a-7362-4d0c-f2e8-9190d753a1b7"
      },
      "outputs": [
        {
          "name": "stdout",
          "output_type": "stream",
          "text": [
            "Préstamos: 2.0520% de riesgo histórico\n",
            "Transacciones: 1.0040% de riesgo histórico\n",
            "Tarjeta de Crédito: 0.1727% de riesgo histórico\n"
          ]
        }
      ],
      "source": [
        "# Calcular riesgo histórico promedio de fraude (proporción de fraudes)\n",
        "riesgos_historicos = {\n",
        "    'Tarjeta de Crédito': df_creditcard['fraud_flag'].mean(),\n",
        "    'Préstamos': df_loan[\"fraud_flag\"].mean(),\n",
        "    'Transacciones': df_transaction[\"fraud_flag\"].mean()\n",
        "}\n",
        "# Ordenar de mayor a menor riesgo\n",
        "riesgos_ordenados = dict(sorted(riesgos_historicos.items(), key=lambda x: x[1], reverse=True))\n",
        "# Mostrar resultados\n",
        "for unidad, riesgo in riesgos_ordenados.items():\n",
        "    print(f'{unidad}: {riesgo:.4%} de riesgo histórico')\n",
        "\n",
        "\n",
        "\n",
        "\n",
        "\n",
        "\n"
      ]
    },
    {
      "cell_type": "code",
      "execution_count": null,
      "metadata": {
        "id": "nvHCGJMEQP1a"
      },
      "outputs": [],
      "source": [
        "df_creditcard[\"Amount\"]\n",
        "df_loan[\"loan_amount_requested\"]\n",
        "df_transaction[\"transaction_amount\"]\n"
      ]
    },
    {
      "cell_type": "code",
      "execution_count": null,
      "metadata": {
        "colab": {
          "base_uri": "https://localhost:8080/"
        },
        "id": "F6VsJ0dXQao8",
        "outputId": "9716d504-665f-4444-f7e7-54f9386140e5"
      },
      "outputs": [
        {
          "name": "stdout",
          "output_type": "stream",
          "text": [
            "Monto total de transacciones fraudulentas en tarjetas de crédito: 60,127.97\n",
            "Monto total de transacciones fraudulentas en préstamos: 515,731,000.00\n",
            "Monto total de transacciones fraudulentas en transacciones: 4,144,916.47\n"
          ]
        }
      ],
      "source": [
        "fraud_amount_creditcard = df_creditcard[df_creditcard['fraud_flag'] == 1]['Amount'].sum()\n",
        "print(f'Monto total de transacciones fraudulentas en tarjetas de crédito: {fraud_amount_creditcard:,.2f}')\n",
        "\n",
        "fraud_amount_loan= df_loan[df_loan['fraud_flag'] == 1]['loan_amount_requested'].sum()\n",
        "print(f'Monto total de transacciones fraudulentas en préstamos: {fraud_amount_loan:,.2f}')\n",
        "\n",
        "fraud_amount_transaction= df_transaction[df_transaction['fraud_flag'] == 1]['transaction_amount'].sum()\n",
        "print(f'Monto total de transacciones fraudulentas en transacciones: {fraud_amount_transaction:,.2f}')\n",
        "\n",
        "\n",
        "\n",
        "\n"
      ]
    },
    {
      "cell_type": "code",
      "execution_count": null,
      "metadata": {
        "colab": {
          "base_uri": "https://localhost:8080/"
        },
        "id": "_q6apkltjWxz",
        "outputId": "a13cb8f9-9fbd-4e08-e73b-dff53df8507e"
      },
      "outputs": [
        {
          "name": "stdout",
          "output_type": "stream",
          "text": [
            "Monto total de transacciones NO fraudulentas en tarjetas de crédito: 25,102,462.04\n",
            "Monto total de transacciones NO fraudulentas en préstamos: 25,179,921,000.00\n",
            "Monto total de transacciones NO fraudulentas en transacciones: 246,138,800.00\n"
          ]
        }
      ],
      "source": [
        "nofraud_amount_creditcard = df_creditcard[df_creditcard['fraud_flag'] == 0]['Amount'].sum()\n",
        "print(f'Monto total de transacciones NO fraudulentas en tarjetas de crédito: {nofraud_amount_creditcard:,.2f}')\n",
        "\n",
        "nofraud_amount_loan= df_loan[df_loan['fraud_flag'] == 0]['loan_amount_requested'].sum()\n",
        "print(f'Monto total de transacciones NO fraudulentas en préstamos: {nofraud_amount_loan:,.2f}')\n",
        "\n",
        "nofraud_amount_transaction= df_transaction[df_transaction['fraud_flag'] == 0]['transaction_amount'].sum()\n",
        "print(f'Monto total de transacciones NO fraudulentas en transacciones: {nofraud_amount_transaction:,.2f}')"
      ]
    },
    {
      "cell_type": "code",
      "execution_count": null,
      "metadata": {
        "colab": {
          "base_uri": "https://localhost:8080/"
        },
        "id": "TAMzeN9tQuqT",
        "outputId": "dabd1410-1cc4-4daf-821f-5758a8a9b41b"
      },
      "outputs": [
        {
          "name": "stdout",
          "output_type": "stream",
          "text": [
            "Monto total de transacciones en tarjetas de crédito: 25,162,590.01\n",
            "Monto total de transacciones en préstamos: 25,695,652,000.00\n",
            "Monto total de transacciones en transacciones: 250,283,716.47\n"
          ]
        }
      ],
      "source": [
        "total_amount_creditcard = fraud_amount_creditcard + nofraud_amount_creditcard\n",
        "total_amount_loan = fraud_amount_loan + nofraud_amount_loan\n",
        "total_amount_transaction = fraud_amount_transaction + nofraud_amount_transaction\n",
        "print(f\"Monto total de transacciones en tarjetas de crédito: {total_amount_creditcard:,.2f}\")\n",
        "print(f\"Monto total de transacciones en préstamos: {total_amount_loan:,.2f}\")\n",
        "print(f\"Monto total de transacciones en transacciones: {total_amount_transaction:,.2f}\")"
      ]
    },
    {
      "cell_type": "code",
      "execution_count": null,
      "metadata": {
        "colab": {
          "base_uri": "https://localhost:8080/"
        },
        "id": "mSNsPaq_kBrn",
        "outputId": "25067ed9-ab8c-4b86-cb64-9ab55f413c09"
      },
      "outputs": [
        {
          "name": "stdout",
          "output_type": "stream",
          "text": [
            "Porcentaje de transacciones fraudulentas en tarjetas de crédito: 0.24%\n",
            "Porcentaje de transacciones fraudulentas en préstamos: 2.01%\n",
            "Porcentaje de transacciones fraudulentas en transacciones: 1.66%\n"
          ]
        }
      ],
      "source": [
        "\n",
        "print(f\"Porcentaje de transacciones fraudulentas en tarjetas de crédito: {fraud_amount_creditcard/total_amount_creditcard:.2%}\")\n",
        "print(f\"Porcentaje de transacciones fraudulentas en préstamos: {fraud_amount_loan/total_amount_loan:.2%}\")\n",
        "print(f\"Porcentaje de transacciones fraudulentas en transacciones: {fraud_amount_transaction/total_amount_transaction:.2%}\")"
      ]
    },
    {
      "cell_type": "code",
      "execution_count": null,
      "metadata": {
        "colab": {
          "base_uri": "https://localhost:8080/"
        },
        "id": "psOGzvukky8z",
        "outputId": "fa609f09-ba25-4d67-f72c-7ab398f4dd1e"
      },
      "outputs": [
        {
          "name": "stdout",
          "output_type": "stream",
          "text": [
            "Costo promedio de fraude en tarjetas de crédito: 122.21132113821139\n",
            "Costo promedio de fraude en préstamos: 502661.79337231966\n",
            "Costo promedio de fraude en transacciones: 8256.805723123816\n"
          ]
        }
      ],
      "source": [
        "Costo_promedio_fraude_TC =fraud_amount_creditcard/492 #CUser1\n",
        "Costo_promedio_fraude_loan= fraud_amount_loan/1026 #CUser3\n",
        "Costo_promedio_fraude_transaction= fraud_amount_transaction/502 #CUser2\n",
        "print(f\"Costo promedio de fraude en tarjetas de crédito: {Costo_promedio_fraude_TC}\")\n",
        "print(f\"Costo promedio de fraude en préstamos: {Costo_promedio_fraude_loan}\")\n",
        "print(f\"Costo promedio de fraude en transacciones: {Costo_promedio_fraude_transaction}\")"
      ]
    },
    {
      "cell_type": "code",
      "execution_count": null,
      "metadata": {
        "id": "aBlyMuVKoiER"
      },
      "outputs": [],
      "source": [
        "Baseline_prob = 0.08\n",
        "C_promedio_total= Costo_promedio_fraude_TC + Costo_promedio_fraude_loan + Costo_promedio_fraude_transaction"
      ]
    },
    {
      "cell_type": "code",
      "execution_count": null,
      "metadata": {
        "colab": {
          "base_uri": "https://localhost:8080/"
        },
        "id": "kwrwDm-rpQDR",
        "outputId": "4214e2ad-89f9-4891-8d6a-91c83ac8a205"
      },
      "outputs": [
        {
          "name": "stdout",
          "output_type": "stream",
          "text": [
            "Costo total de fraude sin modelo: 15,732,166,490.72\n"
          ]
        }
      ],
      "source": [
        "#Gtotal = 75988\n",
        "Gtotal = 384807\n",
        "# si le ofrecieramos lo mismo a todos los usuarios, partiendo desde el supuesto de que ambos datasets tuvieran la misma cantidad de usuarios (filas) con prob de fraude de 0.08, se estaría\n",
        "#incurriendo en una pérdida de 15,732,166,490.72 de 25,971,098,306.48, es decir un 60.58%\n",
        "\n",
        "\n",
        "Costo_total_fraude_sin_modelo = Baseline_prob * Gtotal * C_promedio_total\n",
        "print(f\"Costo total de fraude sin modelo: {Costo_total_fraude_sin_modelo:,.2f}\")"
      ]
    },
    {
      "cell_type": "code",
      "execution_count": null,
      "metadata": {
        "colab": {
          "base_uri": "https://localhost:8080/"
        },
        "id": "d2k4OBRuqNnE",
        "outputId": "25ff4dd3-d349-4139-e35c-788d56b133bc"
      },
      "outputs": [
        {
          "name": "stdout",
          "output_type": "stream",
          "text": [
            "Monto total de movimientos: 25,971,098,306.48\n"
          ]
        }
      ],
      "source": [
        "Monto_total_movimiento = total_amount_creditcard + total_amount_loan + total_amount_transaction\n",
        "print(f\"Monto total de movimientos: {Monto_total_movimiento:,.2f}\")"
      ]
    },
    {
      "cell_type": "code",
      "execution_count": null,
      "metadata": {
        "id": "qHrRHC4SquWM"
      },
      "outputs": [],
      "source": [
        "Usuarios_totales = 384807\n"
      ]
    },
    {
      "cell_type": "code",
      "execution_count": null,
      "metadata": {
        "colab": {
          "base_uri": "https://localhost:8080/"
        },
        "id": "Ni6iWGbcsKUa",
        "outputId": "6a035497-3f3e-44bf-e21b-6a7e3d5410bd"
      },
      "outputs": [
        {
          "name": "stdout",
          "output_type": "stream",
          "text": [
            "Porcentaje de costo de fraude: 60.58%\n"
          ]
        }
      ],
      "source": [
        "Porcentaje_costo_fraude = Costo_total_fraude_sin_modelo / Monto_total_movimiento\n",
        "print(f\"Porcentaje de costo de fraude: {Porcentaje_costo_fraude:.2%}\")"
      ]
    }
  ],
  "metadata": {
    "colab": {
      "provenance": []
    },
    "kernelspec": {
      "display_name": "project_final",
      "language": "python",
      "name": "python3"
    },
    "language_info": {
      "codemirror_mode": {
        "name": "ipython",
        "version": 3
      },
      "file_extension": ".py",
      "mimetype": "text/x-python",
      "name": "python",
      "nbconvert_exporter": "python",
      "pygments_lexer": "ipython3",
      "version": "3.10.6"
    }
  },
  "nbformat": 4,
  "nbformat_minor": 0
}
