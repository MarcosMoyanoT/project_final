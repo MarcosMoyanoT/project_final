{
 "cells": [
  {
   "cell_type": "code",
   "execution_count": 1,
   "id": "92896c5f",
   "metadata": {},
   "outputs": [],
   "source": [
    "import pandas as pd\n",
    "# 1. Cargar el archivo más liviano entero (identity)\n",
    "df_identity = pd.read_csv(\"/home/marcos/code/MarcosMoyanoT/project_final/raw_data/train_identity.csv\")\n",
    "# 2. Definir el generador de chunks del archivo pesado\n",
    "chunk_size = 100_000\n",
    "chunk_list = []\n",
    "for chunk in pd.read_csv(\"/home/marcos/code/MarcosMoyanoT/project_final/raw_data/train_transaction.csv\", chunksize=chunk_size):\n",
    "    # 3. Hacer el merge parcial\n",
    "    merged_chunk = pd.merge(chunk, df_identity, on=\"TransactionID\", how=\"left\")\n",
    "    chunk_list.append(merged_chunk)\n",
    "# 4. Concatenar todos los chunks en un único DataFrame\n",
    "df_full = pd.concat(chunk_list)\n"
   ]
  },
  {
   "cell_type": "code",
   "execution_count": null,
   "id": "9d2e147a",
   "metadata": {},
   "outputs": [],
   "source": [
    "df_merge = df_full.copy()"
   ]
  }
 ],
 "metadata": {
  "kernelspec": {
   "display_name": "project_final",
   "language": "python",
   "name": "python3"
  },
  "language_info": {
   "codemirror_mode": {
    "name": "ipython",
    "version": 3
   },
   "file_extension": ".py",
   "mimetype": "text/x-python",
   "name": "python",
   "nbconvert_exporter": "python",
   "pygments_lexer": "ipython3",
   "version": "3.10.6"
  }
 },
 "nbformat": 4,
 "nbformat_minor": 5
}
