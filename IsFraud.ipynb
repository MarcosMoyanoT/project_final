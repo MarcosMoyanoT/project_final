{
  "cells": [
    {
      "cell_type": "markdown",
      "source": [
        "# Preprocesamiento"
      ],
      "metadata": {
        "id": "fjzD6DJIO8z8"
      },
      "id": "fjzD6DJIO8z8"
    },
    {
      "cell_type": "code",
      "execution_count": 3,
      "id": "f809909f",
      "metadata": {
        "id": "f809909f"
      },
      "outputs": [],
      "source": [
        "import pandas as pd\n",
        "import numpy as np\n",
        "from sklearn.preprocessing import LabelEncoder, StandardScaler\n",
        "from sklearn.model_selection import train_test_split\n",
        "from imblearn.combine import SMOTETomek\n",
        "from sklearn.metrics import f1_score, precision_score, recall_score\n",
        "from xgboost import XGBClassifier\n",
        "from sklearn.metrics import f1_score, accuracy_score, recall_score, precision_score, roc_auc_score, classification_report, confusion_matrix"
      ]
    },
    {
      "cell_type": "code",
      "source": [
        "from google.colab import drive\n",
        "drive.mount('/content/drive')"
      ],
      "metadata": {
        "id": "WuYquBl1Cntx",
        "colab": {
          "base_uri": "https://localhost:8080/"
        },
        "outputId": "938613ab-88f6-4091-b8e1-fa29dc7b433a"
      },
      "id": "WuYquBl1Cntx",
      "execution_count": 1,
      "outputs": [
        {
          "output_type": "stream",
          "name": "stdout",
          "text": [
            "Drive already mounted at /content/drive; to attempt to forcibly remount, call drive.mount(\"/content/drive\", force_remount=True).\n"
          ]
        }
      ]
    },
    {
      "cell_type": "code",
      "source": [
        "# Leer el archivo CSV\n",
        "df_identity = pd.read_csv(\"/content/drive/MyDrive/train_identity.csv\")\n",
        "df_transaction = pd.read_csv(\"/content/drive/MyDrive/train_transaction.csv\")\n",
        "\n",
        "# Unir los DataFrames en uno solo\n",
        "df_merged = pd.merge(df_identity, df_transaction, on=\"TransactionID\", how=\"left\")"
      ],
      "metadata": {
        "id": "TVdGn4MzCuFn"
      },
      "id": "TVdGn4MzCuFn",
      "execution_count": 4,
      "outputs": []
    },
    {
      "cell_type": "code",
      "source": [
        "# Creación del user Id para poder hacer seguimiento por cliente\n",
        "df_merged[\"user_id\"] = (\n",
        "    df_merged[\"card1\"].astype(str) + \"_\" +\n",
        "    df_merged[\"card2\"].astype(str) + \"_\" +\n",
        "    df_merged[\"card3\"].astype(str) + \"_\" +\n",
        "    df_merged[\"card5\"].astype(str) + \"_\" +\n",
        "    df_merged[\"card4\"].astype(str) + \"_\" +\n",
        "    df_merged[\"card6\"].astype(str) + \"_\" +\n",
        "    df_merged[\"addr1\"].astype(str) + \"_\" +\n",
        "    df_merged[\"dist1\"].astype(str) + \"_\" +\n",
        "    df_merged[\"P_emaildomain\"].astype(str) + \"_\" +\n",
        "    df_merged[\"R_emaildomain\"].astype(str) + \"_\" +\n",
        "    df_merged[\"id_02\"].astype(str) + \"_\" +\n",
        "    df_merged[\"id_05\"].astype(str) + \"_\" +\n",
        "    df_merged[\"id_06\"].astype(str) + \"_\" +\n",
        "    df_merged[\"id_15\"].astype(str) + \"_\" +\n",
        "    df_merged[\"id_30\"].astype(str) + \"_\" +\n",
        "    df_merged[\"id_31\"].astype(str) + \"_\" +\n",
        "    df_merged[\"DeviceInfo\"].astype(str)\n",
        ")"
      ],
      "metadata": {
        "id": "sRlIZHVTZBut"
      },
      "id": "sRlIZHVTZBut",
      "execution_count": 5,
      "outputs": []
    },
    {
      "cell_type": "code",
      "source": [
        "df_merged = df_merged.drop_duplicates(subset=\"user_id\", keep='first')\n",
        "\n",
        "df_merged = df_merged.set_index('user_id')"
      ],
      "metadata": {
        "id": "2Kv8o9SZJywg"
      },
      "id": "2Kv8o9SZJywg",
      "execution_count": 10,
      "outputs": []
    },
    {
      "cell_type": "code",
      "source": [
        "# Verificar si hay índices duplicados\n",
        "duplicated_user_ids = df_merged.index.duplicated(keep=False)\n",
        "# Mostrar cuántos hay\n",
        "print(f\"Cantidad de user_id duplicados: {duplicated_user_ids.sum()}\")"
      ],
      "metadata": {
        "colab": {
          "base_uri": "https://localhost:8080/"
        },
        "id": "trPtl-bMIgbZ",
        "outputId": "1152a960-6db1-4d0c-c279-94ecd38f31cf"
      },
      "id": "trPtl-bMIgbZ",
      "execution_count": 11,
      "outputs": [
        {
          "output_type": "stream",
          "name": "stdout",
          "text": [
            "Cantidad de user_id duplicados: 0\n"
          ]
        }
      ]
    },
    {
      "cell_type": "code",
      "source": [
        "# Borramos las columnas que tengan mas de un 40% de nulos\n",
        "threshold = 0.40                            # Umbral del 40%\n",
        "df = df_merged.copy()                      # Crear copia para no tocar el original\n",
        "null_ratio = df.isnull().mean()            # Proporción de nulos por columna\n",
        "cols_to_drop = null_ratio[null_ratio > threshold].index  # Columnas con > 40% de nulos\n",
        "df.drop(columns=cols_to_drop, inplace=True)  # Eliminar columnas de la copia\n",
        "print(f\"Columnas eliminadas por nulos: {len(cols_to_drop)}\")\n",
        "\n",
        "df.dropna(inplace=True)\n",
        "df.shape"
      ],
      "metadata": {
        "id": "FxA9W7o-ZSA8",
        "colab": {
          "base_uri": "https://localhost:8080/"
        },
        "outputId": "f6da4923-0ddd-414b-e780-5ff543e69535"
      },
      "id": "FxA9W7o-ZSA8",
      "execution_count": 12,
      "outputs": [
        {
          "output_type": "stream",
          "name": "stdout",
          "text": [
            "Columnas eliminadas por nulos: 187\n"
          ]
        },
        {
          "output_type": "execute_result",
          "data": {
            "text/plain": [
              "(75975, 247)"
            ]
          },
          "metadata": {},
          "execution_count": 12
        }
      ]
    },
    {
      "cell_type": "markdown",
      "source": [
        "# Encoding / Escalar"
      ],
      "metadata": {
        "id": "8OAuu9dHPJ8Q"
      },
      "id": "8OAuu9dHPJ8Q"
    },
    {
      "cell_type": "code",
      "source": [
        "# Lista de columnas categóricas que quieres codificar\n",
        "categorical_columns = [\n",
        "    'DeviceType', 'DeviceInfo', 'ProductCD', 'card1', 'card2', 'card3', 'card4', 'card5', 'card6',\n",
        "    'addr1', 'addr2', 'P_emaildomain', 'R_emaildomain',\n",
        "    'id_12', 'id_13', 'id_14', 'id_15', 'id_16', 'id_17', 'id_18', 'id_19', 'id_20',\n",
        "    'id_21', 'id_22', 'id_23', 'id_24', 'id_25', 'id_26', 'id_27', 'id_28', 'id_29', 'id_30',\n",
        "    'id_31', 'id_32', 'id_33', 'id_34', 'id_35', 'id_36', 'id_37', 'id_38',\n",
        "    'M1', 'M2', 'M3', 'M4', 'M5', 'M6', 'M7', 'M8', 'M9'\n",
        "]\n",
        "\n",
        "# Para cada columna categórica que exista en el DataFrame, aplicamos label encoding\n",
        "le = LabelEncoder()\n",
        "for col in categorical_columns:\n",
        "    if col in df.columns:\n",
        "        df[col] = le.fit_transform(df[col].astype(str))"
      ],
      "metadata": {
        "id": "QnUoInBwZUdS"
      },
      "id": "QnUoInBwZUdS",
      "execution_count": 13,
      "outputs": []
    },
    {
      "cell_type": "code",
      "source": [
        "# Columnas numéricas = todas las que no sean categóricas ni el target\n",
        "target_col = [\"isFraud\"]\n",
        "numeric_columns = [col for col in df.columns if col not in categorical_columns + target_col]\n",
        "\n",
        "# Aplicar StandardScaler a las columnas numéricas\n",
        "scaler = StandardScaler()\n",
        "df[numeric_columns] = scaler.fit_transform(df[numeric_columns])"
      ],
      "metadata": {
        "id": "rx0v0hpOZedi"
      },
      "id": "rx0v0hpOZedi",
      "execution_count": 14,
      "outputs": []
    },
    {
      "cell_type": "markdown",
      "source": [
        "# Modelado"
      ],
      "metadata": {
        "id": "Ft08QEvVssTb"
      },
      "id": "Ft08QEvVssTb"
    },
    {
      "cell_type": "code",
      "source": [
        "# Separar X e y\n",
        "X = df.drop(columns=[\"isFraud\",\"TransactionID\"])\n",
        "y = df[\"isFraud\"]\n",
        "\n",
        "# Split con 80% para entrenamiento y 20% para validación\n",
        "X_train, X_val, y_train, y_val = train_test_split(\n",
        "    X, y,\n",
        "    test_size=0.2,            # 20% de los datos para validación\n",
        "    random_state=42,          # Para reproducibilidad\n",
        "    stratify=y                # Estratificación para que las clases estén balanceadas en ambos sets\n",
        ")\n",
        "\n",
        "# Mostrar el tamaño de cada subconjunto\n",
        "print(\"Tamaño del set de entrenamiento:\", X_train.shape)\n",
        "print(\"Tamaño del set de validación:\", X_val.shape)\n",
        "print(\"Proporción de fraudes en entrenamiento:\", y_train.mean())\n",
        "print(\"Proporción de fraudes en validación:\", y_val.mean())"
      ],
      "metadata": {
        "id": "XtOrd_O0Zybd",
        "colab": {
          "base_uri": "https://localhost:8080/"
        },
        "outputId": "688cbd22-7c35-4525-f736-b9d9e494a281"
      },
      "id": "XtOrd_O0Zybd",
      "execution_count": 15,
      "outputs": [
        {
          "output_type": "stream",
          "name": "stdout",
          "text": [
            "Tamaño del set de entrenamiento: (60780, 245)\n",
            "Tamaño del set de validación: (15195, 245)\n",
            "Proporción de fraudes en entrenamiento: 0.08084896347482724\n",
            "Proporción de fraudes en validación: 0.08081605791378743\n"
          ]
        }
      ]
    },
    {
      "cell_type": "code",
      "source": [
        "# Instanciamos el balanceador\n",
        "smt = SMOTETomek(random_state=42)\n",
        "\n",
        "# Aplicamos solo sobre el set de entrenamiento\n",
        "X_train_sm, y_train_sm = smt.fit_resample(X_train, y_train)\n",
        "\n",
        "# Verificamos las nuevas proporciones\n",
        "print(\"Tamaño del set de entrenamiento balanceado:\", X_train_sm.shape)\n",
        "print(\"Proporción de fraudes después del balanceo:\", y_train_sm.mean())"
      ],
      "metadata": {
        "id": "4-0OdNUEabx8",
        "colab": {
          "base_uri": "https://localhost:8080/"
        },
        "outputId": "95017979-5fff-49ba-ecae-02d364f27f45"
      },
      "id": "4-0OdNUEabx8",
      "execution_count": 16,
      "outputs": [
        {
          "output_type": "stream",
          "name": "stdout",
          "text": [
            "Tamaño del set de entrenamiento balanceado: (111456, 245)\n",
            "Proporción de fraudes después del balanceo: 0.5\n"
          ]
        }
      ]
    },
    {
      "cell_type": "code",
      "source": [
        "def evaluate_thresholds(y_true, y_probs, metric='f1'):\n",
        "    \"\"\"\n",
        "    Encuentra el mejor threshold según la métrica (default: F1-score)\n",
        "    \"\"\"\n",
        "    thresholds = np.linspace(0.1, 0.9, 100)\n",
        "    scores = []\n",
        "\n",
        "    for thresh in thresholds:\n",
        "        y_pred = (y_probs >= thresh).astype(int)\n",
        "        if metric == 'f1':\n",
        "            score = f1_score(y_true, y_pred)\n",
        "        elif metric == 'precision':\n",
        "            score = precision_score(y_true, y_pred)\n",
        "        elif metric == 'recall':\n",
        "            score = recall_score(y_true, y_pred)\n",
        "        else:\n",
        "            raise ValueError(\"Metric must be 'f1', 'precision' or 'recall'\")\n",
        "        scores.append(score)\n",
        "\n",
        "    best_idx = np.argmax(scores)\n",
        "    return thresholds[best_idx]\n"
      ],
      "metadata": {
        "id": "iX5K6oaAUPU1"
      },
      "id": "iX5K6oaAUPU1",
      "execution_count": 17,
      "outputs": []
    },
    {
      "cell_type": "code",
      "source": [
        "# ⚙️ Hiperparámetros finales\n",
        "best_params = {\n",
        "    \"n_estimators\": 443,\n",
        "    \"max_depth\": 7,\n",
        "    \"min_child_weight\": 5,\n",
        "    \"gamma\": 0.07695212100160928,\n",
        "    \"subsample\": 0.865237466656049,\n",
        "    \"colsample_bytree\": 0.7377072170135907,\n",
        "    \"reg_alpha\": 0.8922143189961961,\n",
        "    \"reg_lambda\": 0.9920686938647577,\n",
        "    \"learning_rate\": 0.15753081640792435,\n",
        "    \"eval_metric\": \"logloss\",\n",
        "    \"random_state\": 42,\n",
        "    \"n_jobs\": -1,\n",
        "}\n",
        "\n",
        "# 🏗️ Entrenar modelo final\n",
        "final_model = XGBClassifier(**best_params)\n",
        "final_model.fit(X_train_sm, y_train_sm)\n",
        "\n",
        "# 🔮 Predicción de probabilidades\n",
        "y_proba_final = final_model.predict_proba(X_val)[:, 1]\n",
        "\n",
        "# 🔧 Aplicar threshold óptimo\n",
        "optimal_threshold = 0.3020\n",
        "y_pred_final = (y_proba_final >= optimal_threshold).astype(int)\n",
        "\n",
        "# 📊 Evaluación final\n",
        "print(\"\\n--- 📊 Evaluación FINAL del modelo optimizado ---\")\n",
        "print(f\"Threshold    : {optimal_threshold:.4f}\")\n",
        "print(f\"Accuracy     : {accuracy_score(y_val, y_pred_final):.4f}\")\n",
        "print(f\"F1-score     : {f1_score(y_val, y_pred_final):.4f}\")\n",
        "print(f\"Recall       : {recall_score(y_val, y_pred_final):.4f}\")\n",
        "print(f\"Precision    : {precision_score(y_val, y_pred_final):.4f}\")\n",
        "print(f\"ROC AUC      : {roc_auc_score(y_val, y_proba_final):.4f}\")\n",
        "\n",
        "# 📄 Reportes\n",
        "print(\"\\n\" + classification_report(y_val, y_pred_final, digits=4))\n",
        "print(confusion_matrix(y_val, y_pred_final))"
      ],
      "metadata": {
        "id": "5ocliFkispOd",
        "colab": {
          "base_uri": "https://localhost:8080/"
        },
        "outputId": "e991bfef-bf2a-47ee-a13d-40a996693c95"
      },
      "id": "5ocliFkispOd",
      "execution_count": 18,
      "outputs": [
        {
          "output_type": "stream",
          "name": "stdout",
          "text": [
            "\n",
            "--- 📊 Evaluación FINAL del modelo optimizado ---\n",
            "Threshold    : 0.3020\n",
            "Accuracy     : 0.9782\n",
            "F1-score     : 0.8621\n",
            "Recall       : 0.8428\n",
            "Precision    : 0.8824\n",
            "ROC AUC      : 0.9786\n",
            "\n",
            "              precision    recall  f1-score   support\n",
            "\n",
            "           0     0.9862    0.9901    0.9882     13967\n",
            "           1     0.8824    0.8428    0.8621      1228\n",
            "\n",
            "    accuracy                         0.9782     15195\n",
            "   macro avg     0.9343    0.9165    0.9252     15195\n",
            "weighted avg     0.9778    0.9782    0.9780     15195\n",
            "\n",
            "[[13829   138]\n",
            " [  193  1035]]\n"
          ]
        }
      ]
    },
    {
      "cell_type": "code",
      "source": [
        "# # 🔍 Predicciones en el set de entrenamiento (Chequeo de Overfitting / Underfitting)\n",
        "# y_proba_train = final_model.predict_proba(X_train_sm)[:, 1]\n",
        "# threshold_train = evaluate_thresholds(y_train_sm, y_proba_train)\n",
        "# y_pred_train = (y_proba_train >= threshold_train).astype(int)\n",
        "\n",
        "# # 📊 Evaluación en entrenamiento\n",
        "# print(\"\\n--- Evaluación en entrenamiento ---\")\n",
        "# print(f\"Accuracy     : {accuracy_score(y_train_sm, y_pred_train):.4f}\")\n",
        "# print(f\"F1-score     : {f1_score(y_train_sm, y_pred_train):.4f}\")\n",
        "# print(f\"Recall       : {recall_score(y_train_sm, y_pred_train):.4f}\")\n",
        "# print(f\"Precision    : {precision_score(y_train_sm, y_pred_train):.4f}\")\n",
        "# print(f\"ROC AUC      : {roc_auc_score(y_train_sm, y_proba_train):.4f}\")\n"
      ],
      "metadata": {
        "id": "uQq5fJPq_QfO"
      },
      "id": "uQq5fJPq_QfO",
      "execution_count": null,
      "outputs": []
    },
    {
      "cell_type": "markdown",
      "source": [
        "# Resultados"
      ],
      "metadata": {
        "id": "DR6MfPcN_aSF"
      },
      "id": "DR6MfPcN_aSF"
    },
    {
      "cell_type": "code",
      "source": [
        "# --- 1. Predicción de probabilidades en validación ---\n",
        "y_val_proba = final_model.predict_proba(X_val)[:, 1]\n",
        "\n",
        "# --- 2. Crear df_scores con user_id, fraud_score y monto ---\n",
        "df_scores = pd.DataFrame({\n",
        "    \"user_id\": X_val.index,  # índice ya es user_id\n",
        "    \"fraud_score\": y_val_proba,\n",
        "    \"TransactionAmt\": X_val[\"TransactionAmt\"].values\n",
        "})\n",
        "\n",
        "df_scores[\"TransactionAmt\"] = X_val.index.map(df_merged[\"TransactionAmt\"])\n",
        "\n",
        "# --- 3. Clasificar en grupos de riesgo ---\n",
        "def assign_risk_group(score):\n",
        "    if score < 0.3:\n",
        "        return \"Bajo riesgo\"\n",
        "    elif score < 0.6:\n",
        "        return \"Riesgo medio\"\n",
        "    elif score < 0.9:\n",
        "        return \"Riesgo alto\"\n",
        "    else:\n",
        "        return \"Fraude\"\n",
        "\n",
        "df_scores[\"risk_group\"] = df_scores[\"fraud_score\"].apply(assign_risk_group)\n",
        "\n",
        "# --- 4. Asignar tipo de servicio según grupo de riesgo ---\n",
        "def assign_service_package(risk_group):\n",
        "    if risk_group == \"Bajo riesgo\":\n",
        "        return \"Paquete de Servicios completo\"\n",
        "    elif risk_group == \"Riesgo medio\":\n",
        "        return \"Paquete de Servicios medio\"\n",
        "    elif risk_group == \"Riesgo alto\":\n",
        "        return \"Paquete de Servicios simple\"\n",
        "    else:  # Fraude\n",
        "        return \"Sin Paquete de Servicios\"\n",
        "\n",
        "df_scores[\"service_assignment\"] = df_scores[\"risk_group\"].apply(assign_service_package)\n",
        "\n",
        "# --- 5. Reordenar columnas ---\n",
        "df_scores = df_scores[[\n",
        "    \"user_id\", \"fraud_score\", \"risk_group\", \"TransactionAmt\", \"service_assignment\"\n",
        "]]\n",
        "df_scores"
      ],
      "metadata": {
        "id": "gu7QdHigpjo_",
        "colab": {
          "base_uri": "https://localhost:8080/",
          "height": 1340
        },
        "outputId": "4d06b5b3-d478-49b8-ba0e-379474f9b180"
      },
      "id": "gu7QdHigpjo_",
      "execution_count": 19,
      "outputs": [
        {
          "output_type": "execute_result",
          "data": {
            "text/plain": [
              "                                                 user_id  fraud_score  \\\n",
              "0      13832_375.0_185.0_224.0_mastercard_debit_nan_n...     0.009481   \n",
              "1      11408_555.0_185.0_226.0_visa_credit_nan_nan_ho...     0.000769   \n",
              "2      2261_111.0_150.0_226.0_visa_debit_143.0_nan_gm...     0.000178   \n",
              "3      13307_428.0_150.0_166.0_visa_debit_184.0_nan_g...     0.000023   \n",
              "4      4621_555.0_162.0_226.0_visa_debit_nan_nan_anon...     0.001809   \n",
              "...                                                  ...          ...   \n",
              "15190  15063_514.0_150.0_226.0_visa_credit_204.0_nan_...     0.000468   \n",
              "15191  13844_583.0_150.0_226.0_visa_credit_299.0_nan_...     0.000551   \n",
              "15192  4766_555.0_150.0_226.0_visa_debit_428.0_nan_gm...     0.020563   \n",
              "15193  12426_555.0_150.0_226.0_visa_debit_308.0_nan_g...     0.000062   \n",
              "15194  16659_170.0_150.0_226.0_visa_credit_231.0_nan_...     0.000083   \n",
              "\n",
              "        risk_group  TransactionAmt             service_assignment  \n",
              "0      Bajo riesgo          16.790  Paquete de Servicios completo  \n",
              "1      Bajo riesgo          41.043  Paquete de Servicios completo  \n",
              "2      Bajo riesgo          25.000  Paquete de Servicios completo  \n",
              "3      Bajo riesgo         150.000  Paquete de Servicios completo  \n",
              "4      Bajo riesgo           1.041  Paquete de Servicios completo  \n",
              "...            ...             ...                            ...  \n",
              "15190  Bajo riesgo          25.000  Paquete de Servicios completo  \n",
              "15191  Bajo riesgo         150.000  Paquete de Servicios completo  \n",
              "15192  Bajo riesgo         100.000  Paquete de Servicios completo  \n",
              "15193  Bajo riesgo          50.000  Paquete de Servicios completo  \n",
              "15194  Bajo riesgo          50.000  Paquete de Servicios completo  \n",
              "\n",
              "[15195 rows x 5 columns]"
            ],
            "text/html": [
              "\n",
              "  <div id=\"df-c525f4d7-5f1c-4d59-82d2-0e8bcfc4e306\" class=\"colab-df-container\">\n",
              "    <div>\n",
              "<style scoped>\n",
              "    .dataframe tbody tr th:only-of-type {\n",
              "        vertical-align: middle;\n",
              "    }\n",
              "\n",
              "    .dataframe tbody tr th {\n",
              "        vertical-align: top;\n",
              "    }\n",
              "\n",
              "    .dataframe thead th {\n",
              "        text-align: right;\n",
              "    }\n",
              "</style>\n",
              "<table border=\"1\" class=\"dataframe\">\n",
              "  <thead>\n",
              "    <tr style=\"text-align: right;\">\n",
              "      <th></th>\n",
              "      <th>user_id</th>\n",
              "      <th>fraud_score</th>\n",
              "      <th>risk_group</th>\n",
              "      <th>TransactionAmt</th>\n",
              "      <th>service_assignment</th>\n",
              "    </tr>\n",
              "  </thead>\n",
              "  <tbody>\n",
              "    <tr>\n",
              "      <th>0</th>\n",
              "      <td>13832_375.0_185.0_224.0_mastercard_debit_nan_n...</td>\n",
              "      <td>0.009481</td>\n",
              "      <td>Bajo riesgo</td>\n",
              "      <td>16.790</td>\n",
              "      <td>Paquete de Servicios completo</td>\n",
              "    </tr>\n",
              "    <tr>\n",
              "      <th>1</th>\n",
              "      <td>11408_555.0_185.0_226.0_visa_credit_nan_nan_ho...</td>\n",
              "      <td>0.000769</td>\n",
              "      <td>Bajo riesgo</td>\n",
              "      <td>41.043</td>\n",
              "      <td>Paquete de Servicios completo</td>\n",
              "    </tr>\n",
              "    <tr>\n",
              "      <th>2</th>\n",
              "      <td>2261_111.0_150.0_226.0_visa_debit_143.0_nan_gm...</td>\n",
              "      <td>0.000178</td>\n",
              "      <td>Bajo riesgo</td>\n",
              "      <td>25.000</td>\n",
              "      <td>Paquete de Servicios completo</td>\n",
              "    </tr>\n",
              "    <tr>\n",
              "      <th>3</th>\n",
              "      <td>13307_428.0_150.0_166.0_visa_debit_184.0_nan_g...</td>\n",
              "      <td>0.000023</td>\n",
              "      <td>Bajo riesgo</td>\n",
              "      <td>150.000</td>\n",
              "      <td>Paquete de Servicios completo</td>\n",
              "    </tr>\n",
              "    <tr>\n",
              "      <th>4</th>\n",
              "      <td>4621_555.0_162.0_226.0_visa_debit_nan_nan_anon...</td>\n",
              "      <td>0.001809</td>\n",
              "      <td>Bajo riesgo</td>\n",
              "      <td>1.041</td>\n",
              "      <td>Paquete de Servicios completo</td>\n",
              "    </tr>\n",
              "    <tr>\n",
              "      <th>...</th>\n",
              "      <td>...</td>\n",
              "      <td>...</td>\n",
              "      <td>...</td>\n",
              "      <td>...</td>\n",
              "      <td>...</td>\n",
              "    </tr>\n",
              "    <tr>\n",
              "      <th>15190</th>\n",
              "      <td>15063_514.0_150.0_226.0_visa_credit_204.0_nan_...</td>\n",
              "      <td>0.000468</td>\n",
              "      <td>Bajo riesgo</td>\n",
              "      <td>25.000</td>\n",
              "      <td>Paquete de Servicios completo</td>\n",
              "    </tr>\n",
              "    <tr>\n",
              "      <th>15191</th>\n",
              "      <td>13844_583.0_150.0_226.0_visa_credit_299.0_nan_...</td>\n",
              "      <td>0.000551</td>\n",
              "      <td>Bajo riesgo</td>\n",
              "      <td>150.000</td>\n",
              "      <td>Paquete de Servicios completo</td>\n",
              "    </tr>\n",
              "    <tr>\n",
              "      <th>15192</th>\n",
              "      <td>4766_555.0_150.0_226.0_visa_debit_428.0_nan_gm...</td>\n",
              "      <td>0.020563</td>\n",
              "      <td>Bajo riesgo</td>\n",
              "      <td>100.000</td>\n",
              "      <td>Paquete de Servicios completo</td>\n",
              "    </tr>\n",
              "    <tr>\n",
              "      <th>15193</th>\n",
              "      <td>12426_555.0_150.0_226.0_visa_debit_308.0_nan_g...</td>\n",
              "      <td>0.000062</td>\n",
              "      <td>Bajo riesgo</td>\n",
              "      <td>50.000</td>\n",
              "      <td>Paquete de Servicios completo</td>\n",
              "    </tr>\n",
              "    <tr>\n",
              "      <th>15194</th>\n",
              "      <td>16659_170.0_150.0_226.0_visa_credit_231.0_nan_...</td>\n",
              "      <td>0.000083</td>\n",
              "      <td>Bajo riesgo</td>\n",
              "      <td>50.000</td>\n",
              "      <td>Paquete de Servicios completo</td>\n",
              "    </tr>\n",
              "  </tbody>\n",
              "</table>\n",
              "<p>15195 rows × 5 columns</p>\n",
              "</div>\n",
              "    <div class=\"colab-df-buttons\">\n",
              "\n",
              "  <div class=\"colab-df-container\">\n",
              "    <button class=\"colab-df-convert\" onclick=\"convertToInteractive('df-c525f4d7-5f1c-4d59-82d2-0e8bcfc4e306')\"\n",
              "            title=\"Convert this dataframe to an interactive table.\"\n",
              "            style=\"display:none;\">\n",
              "\n",
              "  <svg xmlns=\"http://www.w3.org/2000/svg\" height=\"24px\" viewBox=\"0 -960 960 960\">\n",
              "    <path d=\"M120-120v-720h720v720H120Zm60-500h600v-160H180v160Zm220 220h160v-160H400v160Zm0 220h160v-160H400v160ZM180-400h160v-160H180v160Zm440 0h160v-160H620v160ZM180-180h160v-160H180v160Zm440 0h160v-160H620v160Z\"/>\n",
              "  </svg>\n",
              "    </button>\n",
              "\n",
              "  <style>\n",
              "    .colab-df-container {\n",
              "      display:flex;\n",
              "      gap: 12px;\n",
              "    }\n",
              "\n",
              "    .colab-df-convert {\n",
              "      background-color: #E8F0FE;\n",
              "      border: none;\n",
              "      border-radius: 50%;\n",
              "      cursor: pointer;\n",
              "      display: none;\n",
              "      fill: #1967D2;\n",
              "      height: 32px;\n",
              "      padding: 0 0 0 0;\n",
              "      width: 32px;\n",
              "    }\n",
              "\n",
              "    .colab-df-convert:hover {\n",
              "      background-color: #E2EBFA;\n",
              "      box-shadow: 0px 1px 2px rgba(60, 64, 67, 0.3), 0px 1px 3px 1px rgba(60, 64, 67, 0.15);\n",
              "      fill: #174EA6;\n",
              "    }\n",
              "\n",
              "    .colab-df-buttons div {\n",
              "      margin-bottom: 4px;\n",
              "    }\n",
              "\n",
              "    [theme=dark] .colab-df-convert {\n",
              "      background-color: #3B4455;\n",
              "      fill: #D2E3FC;\n",
              "    }\n",
              "\n",
              "    [theme=dark] .colab-df-convert:hover {\n",
              "      background-color: #434B5C;\n",
              "      box-shadow: 0px 1px 3px 1px rgba(0, 0, 0, 0.15);\n",
              "      filter: drop-shadow(0px 1px 2px rgba(0, 0, 0, 0.3));\n",
              "      fill: #FFFFFF;\n",
              "    }\n",
              "  </style>\n",
              "\n",
              "    <script>\n",
              "      const buttonEl =\n",
              "        document.querySelector('#df-c525f4d7-5f1c-4d59-82d2-0e8bcfc4e306 button.colab-df-convert');\n",
              "      buttonEl.style.display =\n",
              "        google.colab.kernel.accessAllowed ? 'block' : 'none';\n",
              "\n",
              "      async function convertToInteractive(key) {\n",
              "        const element = document.querySelector('#df-c525f4d7-5f1c-4d59-82d2-0e8bcfc4e306');\n",
              "        const dataTable =\n",
              "          await google.colab.kernel.invokeFunction('convertToInteractive',\n",
              "                                                    [key], {});\n",
              "        if (!dataTable) return;\n",
              "\n",
              "        const docLinkHtml = 'Like what you see? Visit the ' +\n",
              "          '<a target=\"_blank\" href=https://colab.research.google.com/notebooks/data_table.ipynb>data table notebook</a>'\n",
              "          + ' to learn more about interactive tables.';\n",
              "        element.innerHTML = '';\n",
              "        dataTable['output_type'] = 'display_data';\n",
              "        await google.colab.output.renderOutput(dataTable, element);\n",
              "        const docLink = document.createElement('div');\n",
              "        docLink.innerHTML = docLinkHtml;\n",
              "        element.appendChild(docLink);\n",
              "      }\n",
              "    </script>\n",
              "  </div>\n",
              "\n",
              "\n",
              "    <div id=\"df-a9c92077-6a37-483a-92f3-fdb772ca211f\">\n",
              "      <button class=\"colab-df-quickchart\" onclick=\"quickchart('df-a9c92077-6a37-483a-92f3-fdb772ca211f')\"\n",
              "                title=\"Suggest charts\"\n",
              "                style=\"display:none;\">\n",
              "\n",
              "<svg xmlns=\"http://www.w3.org/2000/svg\" height=\"24px\"viewBox=\"0 0 24 24\"\n",
              "     width=\"24px\">\n",
              "    <g>\n",
              "        <path d=\"M19 3H5c-1.1 0-2 .9-2 2v14c0 1.1.9 2 2 2h14c1.1 0 2-.9 2-2V5c0-1.1-.9-2-2-2zM9 17H7v-7h2v7zm4 0h-2V7h2v10zm4 0h-2v-4h2v4z\"/>\n",
              "    </g>\n",
              "</svg>\n",
              "      </button>\n",
              "\n",
              "<style>\n",
              "  .colab-df-quickchart {\n",
              "      --bg-color: #E8F0FE;\n",
              "      --fill-color: #1967D2;\n",
              "      --hover-bg-color: #E2EBFA;\n",
              "      --hover-fill-color: #174EA6;\n",
              "      --disabled-fill-color: #AAA;\n",
              "      --disabled-bg-color: #DDD;\n",
              "  }\n",
              "\n",
              "  [theme=dark] .colab-df-quickchart {\n",
              "      --bg-color: #3B4455;\n",
              "      --fill-color: #D2E3FC;\n",
              "      --hover-bg-color: #434B5C;\n",
              "      --hover-fill-color: #FFFFFF;\n",
              "      --disabled-bg-color: #3B4455;\n",
              "      --disabled-fill-color: #666;\n",
              "  }\n",
              "\n",
              "  .colab-df-quickchart {\n",
              "    background-color: var(--bg-color);\n",
              "    border: none;\n",
              "    border-radius: 50%;\n",
              "    cursor: pointer;\n",
              "    display: none;\n",
              "    fill: var(--fill-color);\n",
              "    height: 32px;\n",
              "    padding: 0;\n",
              "    width: 32px;\n",
              "  }\n",
              "\n",
              "  .colab-df-quickchart:hover {\n",
              "    background-color: var(--hover-bg-color);\n",
              "    box-shadow: 0 1px 2px rgba(60, 64, 67, 0.3), 0 1px 3px 1px rgba(60, 64, 67, 0.15);\n",
              "    fill: var(--button-hover-fill-color);\n",
              "  }\n",
              "\n",
              "  .colab-df-quickchart-complete:disabled,\n",
              "  .colab-df-quickchart-complete:disabled:hover {\n",
              "    background-color: var(--disabled-bg-color);\n",
              "    fill: var(--disabled-fill-color);\n",
              "    box-shadow: none;\n",
              "  }\n",
              "\n",
              "  .colab-df-spinner {\n",
              "    border: 2px solid var(--fill-color);\n",
              "    border-color: transparent;\n",
              "    border-bottom-color: var(--fill-color);\n",
              "    animation:\n",
              "      spin 1s steps(1) infinite;\n",
              "  }\n",
              "\n",
              "  @keyframes spin {\n",
              "    0% {\n",
              "      border-color: transparent;\n",
              "      border-bottom-color: var(--fill-color);\n",
              "      border-left-color: var(--fill-color);\n",
              "    }\n",
              "    20% {\n",
              "      border-color: transparent;\n",
              "      border-left-color: var(--fill-color);\n",
              "      border-top-color: var(--fill-color);\n",
              "    }\n",
              "    30% {\n",
              "      border-color: transparent;\n",
              "      border-left-color: var(--fill-color);\n",
              "      border-top-color: var(--fill-color);\n",
              "      border-right-color: var(--fill-color);\n",
              "    }\n",
              "    40% {\n",
              "      border-color: transparent;\n",
              "      border-right-color: var(--fill-color);\n",
              "      border-top-color: var(--fill-color);\n",
              "    }\n",
              "    60% {\n",
              "      border-color: transparent;\n",
              "      border-right-color: var(--fill-color);\n",
              "    }\n",
              "    80% {\n",
              "      border-color: transparent;\n",
              "      border-right-color: var(--fill-color);\n",
              "      border-bottom-color: var(--fill-color);\n",
              "    }\n",
              "    90% {\n",
              "      border-color: transparent;\n",
              "      border-bottom-color: var(--fill-color);\n",
              "    }\n",
              "  }\n",
              "</style>\n",
              "\n",
              "      <script>\n",
              "        async function quickchart(key) {\n",
              "          const quickchartButtonEl =\n",
              "            document.querySelector('#' + key + ' button');\n",
              "          quickchartButtonEl.disabled = true;  // To prevent multiple clicks.\n",
              "          quickchartButtonEl.classList.add('colab-df-spinner');\n",
              "          try {\n",
              "            const charts = await google.colab.kernel.invokeFunction(\n",
              "                'suggestCharts', [key], {});\n",
              "          } catch (error) {\n",
              "            console.error('Error during call to suggestCharts:', error);\n",
              "          }\n",
              "          quickchartButtonEl.classList.remove('colab-df-spinner');\n",
              "          quickchartButtonEl.classList.add('colab-df-quickchart-complete');\n",
              "        }\n",
              "        (() => {\n",
              "          let quickchartButtonEl =\n",
              "            document.querySelector('#df-a9c92077-6a37-483a-92f3-fdb772ca211f button');\n",
              "          quickchartButtonEl.style.display =\n",
              "            google.colab.kernel.accessAllowed ? 'block' : 'none';\n",
              "        })();\n",
              "      </script>\n",
              "    </div>\n",
              "\n",
              "  <div id=\"id_383c4c00-1f7f-4e90-be95-dee93083c9f2\">\n",
              "    <style>\n",
              "      .colab-df-generate {\n",
              "        background-color: #E8F0FE;\n",
              "        border: none;\n",
              "        border-radius: 50%;\n",
              "        cursor: pointer;\n",
              "        display: none;\n",
              "        fill: #1967D2;\n",
              "        height: 32px;\n",
              "        padding: 0 0 0 0;\n",
              "        width: 32px;\n",
              "      }\n",
              "\n",
              "      .colab-df-generate:hover {\n",
              "        background-color: #E2EBFA;\n",
              "        box-shadow: 0px 1px 2px rgba(60, 64, 67, 0.3), 0px 1px 3px 1px rgba(60, 64, 67, 0.15);\n",
              "        fill: #174EA6;\n",
              "      }\n",
              "\n",
              "      [theme=dark] .colab-df-generate {\n",
              "        background-color: #3B4455;\n",
              "        fill: #D2E3FC;\n",
              "      }\n",
              "\n",
              "      [theme=dark] .colab-df-generate:hover {\n",
              "        background-color: #434B5C;\n",
              "        box-shadow: 0px 1px 3px 1px rgba(0, 0, 0, 0.15);\n",
              "        filter: drop-shadow(0px 1px 2px rgba(0, 0, 0, 0.3));\n",
              "        fill: #FFFFFF;\n",
              "      }\n",
              "    </style>\n",
              "    <button class=\"colab-df-generate\" onclick=\"generateWithVariable('df_scores')\"\n",
              "            title=\"Generate code using this dataframe.\"\n",
              "            style=\"display:none;\">\n",
              "\n",
              "  <svg xmlns=\"http://www.w3.org/2000/svg\" height=\"24px\"viewBox=\"0 0 24 24\"\n",
              "       width=\"24px\">\n",
              "    <path d=\"M7,19H8.4L18.45,9,17,7.55,7,17.6ZM5,21V16.75L18.45,3.32a2,2,0,0,1,2.83,0l1.4,1.43a1.91,1.91,0,0,1,.58,1.4,1.91,1.91,0,0,1-.58,1.4L9.25,21ZM18.45,9,17,7.55Zm-12,3A5.31,5.31,0,0,0,4.9,8.1,5.31,5.31,0,0,0,1,6.5,5.31,5.31,0,0,0,4.9,4.9,5.31,5.31,0,0,0,6.5,1,5.31,5.31,0,0,0,8.1,4.9,5.31,5.31,0,0,0,12,6.5,5.46,5.46,0,0,0,6.5,12Z\"/>\n",
              "  </svg>\n",
              "    </button>\n",
              "    <script>\n",
              "      (() => {\n",
              "      const buttonEl =\n",
              "        document.querySelector('#id_383c4c00-1f7f-4e90-be95-dee93083c9f2 button.colab-df-generate');\n",
              "      buttonEl.style.display =\n",
              "        google.colab.kernel.accessAllowed ? 'block' : 'none';\n",
              "\n",
              "      buttonEl.onclick = () => {\n",
              "        google.colab.notebook.generateWithVariable('df_scores');\n",
              "      }\n",
              "      })();\n",
              "    </script>\n",
              "  </div>\n",
              "\n",
              "    </div>\n",
              "  </div>\n"
            ],
            "application/vnd.google.colaboratory.intrinsic+json": {
              "type": "dataframe",
              "variable_name": "df_scores",
              "summary": "{\n  \"name\": \"df_scores\",\n  \"rows\": 15195,\n  \"fields\": [\n    {\n      \"column\": \"user_id\",\n      \"properties\": {\n        \"dtype\": \"string\",\n        \"num_unique_values\": 15195,\n        \"samples\": [\n          \"5812_408.0_185.0_224.0_mastercard_debit_nan_nan_gmail.com_gmail.com_385716.0_0.0_-6.0_New_nan_chrome 65.0 for android_moto x4 Build/NPW26.83-18-2-0-4\",\n          \"2616_327.0_150.0_102.0_discover_credit_184.0_nan_outlook.com_outlook.com_753499.0_0.0_0.0_Found_Windows 10_chrome 63.0_Windows\",\n          \"13832_375.0_185.0_224.0_mastercard_debit_nan_nan_gmail.com_gmail.com_134000.0_0.0_-1.0_New_nan_chrome 66.0_Windows\"\n        ],\n        \"semantic_type\": \"\",\n        \"description\": \"\"\n      }\n    },\n    {\n      \"column\": \"fraud_score\",\n      \"properties\": {\n        \"dtype\": \"float32\",\n        \"num_unique_values\": 15182,\n        \"samples\": [\n          0.0009819939732551575,\n          0.861482560634613,\n          5.875077022210462e-06\n        ],\n        \"semantic_type\": \"\",\n        \"description\": \"\"\n      }\n    },\n    {\n      \"column\": \"risk_group\",\n      \"properties\": {\n        \"dtype\": \"category\",\n        \"num_unique_values\": 4,\n        \"samples\": [\n          \"Fraude\",\n          \"Riesgo alto\",\n          \"Bajo riesgo\"\n        ],\n        \"semantic_type\": \"\",\n        \"description\": \"\"\n      }\n    },\n    {\n      \"column\": \"TransactionAmt\",\n      \"properties\": {\n        \"dtype\": \"number\",\n        \"std\": 118.53783293604492,\n        \"min\": 0.292,\n        \"max\": 1800.0,\n        \"num_unique_values\": 2837,\n        \"samples\": [\n          19.366,\n          12.593,\n          14.38\n        ],\n        \"semantic_type\": \"\",\n        \"description\": \"\"\n      }\n    },\n    {\n      \"column\": \"service_assignment\",\n      \"properties\": {\n        \"dtype\": \"category\",\n        \"num_unique_values\": 4,\n        \"samples\": [\n          \"Sin Paquete de Servicios\",\n          \"Paquete de Servicios simple\",\n          \"Paquete de Servicios completo\"\n        ],\n        \"semantic_type\": \"\",\n        \"description\": \"\"\n      }\n    }\n  ]\n}"
            }
          },
          "metadata": {},
          "execution_count": 19
        }
      ]
    },
    {
      "cell_type": "code",
      "source": [
        "# 1️⃣ Guardar df_scores en CSV\n",
        "df_scores.to_csv(\"df_scores.csv\", index=False)"
      ],
      "metadata": {
        "id": "YCtzzHPnOhYj"
      },
      "id": "YCtzzHPnOhYj",
      "execution_count": 21,
      "outputs": []
    },
    {
      "cell_type": "code",
      "source": [
        "import os\n",
        "os.getcwd()"
      ],
      "metadata": {
        "colab": {
          "base_uri": "https://localhost:8080/",
          "height": 35
        },
        "id": "EhaiwDDMPmGi",
        "outputId": "aad08d9f-c1b7-4ffd-d11a-63dfd5661d91"
      },
      "id": "EhaiwDDMPmGi",
      "execution_count": 28,
      "outputs": [
        {
          "output_type": "execute_result",
          "data": {
            "text/plain": [
              "'/content'"
            ],
            "application/vnd.google.colaboratory.intrinsic+json": {
              "type": "string"
            }
          },
          "metadata": {},
          "execution_count": 28
        }
      ]
    },
    {
      "cell_type": "code",
      "source": [],
      "metadata": {
        "id": "9778gWqKPqE3"
      },
      "id": "9778gWqKPqE3",
      "execution_count": null,
      "outputs": []
    },
    {
      "cell_type": "code",
      "source": [
        "\n"
      ],
      "metadata": {
        "colab": {
          "base_uri": "https://localhost:8080/"
        },
        "id": "9WaUQBJkPh2X",
        "outputId": "74ec3492-73fa-483b-8afa-4b2db2233ac5"
      },
      "id": "9WaUQBJkPh2X",
      "execution_count": 27,
      "outputs": [
        {
          "output_type": "stream",
          "name": "stderr",
          "text": [
            "2025-08-01 20:09:38.894 Thread 'MainThread': missing ScriptRunContext! This warning can be ignored when running in bare mode.\n",
            "2025-08-01 20:09:38.896 Thread 'MainThread': missing ScriptRunContext! This warning can be ignored when running in bare mode.\n",
            "2025-08-01 20:09:38.897 Thread 'MainThread': missing ScriptRunContext! This warning can be ignored when running in bare mode.\n",
            "2025-08-01 20:09:38.904 Thread 'MainThread': missing ScriptRunContext! This warning can be ignored when running in bare mode.\n",
            "2025-08-01 20:09:38.905 Thread 'MainThread': missing ScriptRunContext! This warning can be ignored when running in bare mode.\n",
            "2025-08-01 20:09:38.910 Thread 'MainThread': missing ScriptRunContext! This warning can be ignored when running in bare mode.\n",
            "2025-08-01 20:09:38.919 Thread 'MainThread': missing ScriptRunContext! This warning can be ignored when running in bare mode.\n",
            "2025-08-01 20:09:38.921 Thread 'MainThread': missing ScriptRunContext! This warning can be ignored when running in bare mode.\n",
            "2025-08-01 20:09:38.923 Thread 'MainThread': missing ScriptRunContext! This warning can be ignored when running in bare mode.\n",
            "2025-08-01 20:09:38.931 Thread 'MainThread': missing ScriptRunContext! This warning can be ignored when running in bare mode.\n",
            "2025-08-01 20:09:38.932 Thread 'MainThread': missing ScriptRunContext! This warning can be ignored when running in bare mode.\n",
            "2025-08-01 20:09:38.937 Thread 'MainThread': missing ScriptRunContext! This warning can be ignored when running in bare mode.\n",
            "2025-08-01 20:09:38.938 Thread 'MainThread': missing ScriptRunContext! This warning can be ignored when running in bare mode.\n",
            "2025-08-01 20:09:38.941 Thread 'MainThread': missing ScriptRunContext! This warning can be ignored when running in bare mode.\n",
            "2025-08-01 20:09:38.943 Thread 'MainThread': missing ScriptRunContext! This warning can be ignored when running in bare mode.\n",
            "2025-08-01 20:09:38.969 Thread 'MainThread': missing ScriptRunContext! This warning can be ignored when running in bare mode.\n",
            "2025-08-01 20:09:38.970 Thread 'MainThread': missing ScriptRunContext! This warning can be ignored when running in bare mode.\n",
            "2025-08-01 20:09:38.976 Thread 'MainThread': missing ScriptRunContext! This warning can be ignored when running in bare mode.\n",
            "2025-08-01 20:09:38.980 Thread 'MainThread': missing ScriptRunContext! This warning can be ignored when running in bare mode.\n",
            "2025-08-01 20:09:38.981 Thread 'MainThread': missing ScriptRunContext! This warning can be ignored when running in bare mode.\n",
            "2025-08-01 20:09:38.984 Thread 'MainThread': missing ScriptRunContext! This warning can be ignored when running in bare mode.\n",
            "2025-08-01 20:09:38.987 Thread 'MainThread': missing ScriptRunContext! This warning can be ignored when running in bare mode.\n",
            "2025-08-01 20:09:38.988 Thread 'MainThread': missing ScriptRunContext! This warning can be ignored when running in bare mode.\n",
            "2025-08-01 20:09:38.990 Thread 'MainThread': missing ScriptRunContext! This warning can be ignored when running in bare mode.\n"
          ]
        },
        {
          "output_type": "execute_result",
          "data": {
            "text/plain": [
              "DeltaGenerator()"
            ]
          },
          "metadata": {},
          "execution_count": 27
        }
      ]
    },
    {
      "cell_type": "code",
      "source": [],
      "metadata": {
        "colab": {
          "base_uri": "https://localhost:8080/",
          "height": 106
        },
        "id": "dFVBK90KPtaJ",
        "outputId": "53310da0-2769-4429-940a-a74315ef1fef"
      },
      "id": "dFVBK90KPtaJ",
      "execution_count": 26,
      "outputs": [
        {
          "output_type": "error",
          "ename": "SyntaxError",
          "evalue": "invalid syntax (ipython-input-3737097518.py, line 1)",
          "traceback": [
            "\u001b[0;36m  File \u001b[0;32m\"/tmp/ipython-input-3737097518.py\"\u001b[0;36m, line \u001b[0;32m1\u001b[0m\n\u001b[0;31m    streamlit run app.py\u001b[0m\n\u001b[0m              ^\u001b[0m\n\u001b[0;31mSyntaxError\u001b[0m\u001b[0;31m:\u001b[0m invalid syntax\n"
          ]
        }
      ]
    },
    {
      "cell_type": "markdown",
      "source": [
        "# Prueba de Modelos"
      ],
      "metadata": {
        "id": "ByKL8xJ9FHHb"
      },
      "id": "ByKL8xJ9FHHb"
    },
    {
      "cell_type": "code",
      "source": [
        "# BUSQUEDA DE MEJOR MODELO\n",
        "\n",
        "# from sklearn.ensemble import RandomForestClassifier\n",
        "# from xgboost import XGBClassifier\n",
        "# from catboost import CatBoostClassifier\n",
        "# from lightgbm import LGBMClassifier\n",
        "\n",
        "# from sklearn.metrics import f1_score, recall_score, precision_score, roc_auc_score\n",
        "# import pandas as pd\n",
        "# import time\n",
        "\n",
        "# # Lista de modelos a comparar\n",
        "# models = {\n",
        "#     \"Random Forest\": RandomForestClassifier(n_estimators=100, random_state=42, n_jobs=-1),\n",
        "#     \"XGBoost\": XGBClassifier(n_estimators=100, use_label_encoder=False, eval_metric='logloss', random_state=42, n_jobs=-1),\n",
        "#     \"CatBoost\": CatBoostClassifier(verbose=0, random_state=42),\n",
        "#     \"LightGBM\": LGBMClassifier(n_estimators=100, random_state=42, n_jobs=-1)\n",
        "# }\n",
        "\n",
        "# results = []\n",
        "\n",
        "# # Entrenamiento y evaluación\n",
        "# for name, model in models.items():\n",
        "#     start = time.time()\n",
        "#     model.fit(X_train_sm, y_train_sm)\n",
        "#     y_pred = model.predict(X_val)\n",
        "#     y_proba = model.predict_proba(X_val)[:, 1]  # Para ROC AUC\n",
        "\n",
        "#     f1 = f1_score(y_val, y_pred)\n",
        "#     recall = recall_score(y_val, y_pred)\n",
        "#     precision = precision_score(y_val, y_pred)\n",
        "#     roc_auc = roc_auc_score(y_val, y_proba)\n",
        "#     duration = time.time() - start\n",
        "\n",
        "#     results.append({\n",
        "#         \"Model\": name,\n",
        "#         \"F1-score\": f1,\n",
        "#         \"Recall\": recall,\n",
        "#         \"Precision\": precision,\n",
        "#         \"ROC AUC\": roc_auc,\n",
        "#         \"Train Time (s)\": round(duration, 2)\n",
        "#     })\n",
        "\n",
        "# # Mostrar resultados ordenados por F1-score\n",
        "# results_df = pd.DataFrame(results).sort_values(by=\"F1-score\", ascending=False)\n",
        "# print(results_df)"
      ],
      "metadata": {
        "id": "xtJt2uHKAcRk"
      },
      "id": "xtJt2uHKAcRk",
      "execution_count": null,
      "outputs": []
    },
    {
      "cell_type": "code",
      "source": [
        "#BUSQUEDA DE MEJORES HIPERPARAMETROS RandomizedSearchCV (XGBoost, CatBoost)\n",
        "\n",
        "# from sklearn.model_selection import RandomizedSearchCV\n",
        "# from xgboost import XGBClassifier\n",
        "# from catboost import CatBoostClassifier\n",
        "\n",
        "# import pandas as pd\n",
        "# import time\n",
        "\n",
        "# # Definir modelos base\n",
        "# models = {\n",
        "#     \"XGBoost\": XGBClassifier(use_label_encoder=False, eval_metric='logloss', random_state=42, n_jobs=-1),\n",
        "#     \"CatBoost\": CatBoostClassifier(verbose=0, random_state=42)\n",
        "# }\n",
        "\n",
        "# # Espacios de búsqueda (parámetros más importantes)\n",
        "# params = {\n",
        "#     \"XGBoost\": {\n",
        "#         'n_estimators': [100, 200, 300],\n",
        "#         'max_depth': [3, 6, 10],\n",
        "#         'learning_rate': [0.01, 0.1, 0.2],\n",
        "#         'subsample': [0.6, 0.8, 1],\n",
        "#         'colsample_bytree': [0.6, 0.8, 1],\n",
        "#         'gamma': [0, 0.1, 0.2]\n",
        "#     },\n",
        "#     \"CatBoost\": {\n",
        "#         'iterations': [100, 200, 300],\n",
        "#         'depth': [4, 6, 10],\n",
        "#         'learning_rate': [0.01, 0.1, 0.2],\n",
        "#         'l2_leaf_reg': [1, 3, 5]\n",
        "#     }\n",
        "# }\n",
        "\n",
        "# from sklearn.metrics import f1_score\n",
        "\n",
        "# results = []\n",
        "\n",
        "# for name in models:\n",
        "#     print(f\"\\n--- Fine tuning {name} ---\")\n",
        "#     model = models[name]\n",
        "#     param_dist = params[name]\n",
        "\n",
        "#     # RandomizedSearchCV con 3 folds, 20 iteraciones, scoring f1\n",
        "#     search = RandomizedSearchCV(\n",
        "#         estimator=model,\n",
        "#         param_distributions=param_dist,\n",
        "#         n_iter=20,\n",
        "#         scoring='f1',\n",
        "#         cv=3,\n",
        "#         verbose=1,\n",
        "#         random_state=42,\n",
        "#         n_jobs=-1\n",
        "#     )\n",
        "\n",
        "#     start = time.time()\n",
        "#     search.fit(X_train_sm, y_train_sm)\n",
        "#     duration = time.time() - start\n",
        "\n",
        "#     best_model = search.best_estimator_\n",
        "#     print(f\"Mejores params: {search.best_params_}\")\n",
        "#     print(f\"Tiempo de búsqueda: {duration:.1f} seg\")\n",
        "\n",
        "#     # Evaluar en set de validación\n",
        "#     y_pred = best_model.predict(X_val)\n",
        "#     y_proba = best_model.predict_proba(X_val)[:, 1]\n",
        "\n",
        "#     f1 = f1_score(y_val, y_pred)\n",
        "#     recall = recall_score(y_val, y_pred)\n",
        "#     precision = precision_score(y_val, y_pred)\n",
        "#     roc_auc = roc_auc_score(y_val, y_proba)\n",
        "\n",
        "#     results.append({\n",
        "#         \"Model\": name,\n",
        "#         \"F1-score\": f1,\n",
        "#         \"Recall\": recall,\n",
        "#         \"Precision\": precision,\n",
        "#         \"ROC AUC\": roc_auc,\n",
        "#         \"Train Time (s)\": round(duration, 1)\n",
        "#     })\n",
        "\n",
        "# # Mostrar resultados ordenados por F1-score\n",
        "# results_df = pd.DataFrame(results).sort_values(by=\"F1-score\", ascending=False)\n",
        "# print(\"\\n--- Resultados Fine Tuning ---\")\n",
        "# print(results_df)"
      ],
      "metadata": {
        "id": "6PpS9Yw-tfXD"
      },
      "id": "6PpS9Yw-tfXD",
      "execution_count": null,
      "outputs": []
    },
    {
      "cell_type": "code",
      "source": [
        "# !pip install optuna\n",
        "# import optuna\n",
        "# from xgboost import XGBClassifier\n",
        "# from sklearn.metrics import f1_score\n",
        "# from sklearn.model_selection import train_test_split\n",
        "\n",
        "# # ✅ Callback personalizado para imprimir resultados bonitos\n",
        "# def print_callback(study, trial):\n",
        "#     print(f\"\\nTrial {trial.number} terminado\")\n",
        "#     print(f\"🔎 F1 Score : {trial.value:.5f}\")\n",
        "#     print(f\"📌 Params   : {trial.params}\")\n",
        "\n",
        "# # 🎯 Función objetivo para Optuna\n",
        "# def objective(trial):\n",
        "#     # Hiperparámetros a optimizar\n",
        "#     params = {\n",
        "#         \"n_estimators\": trial.suggest_int(\"n_estimators\", 100, 500),\n",
        "#         \"max_depth\": trial.suggest_int(\"max_depth\", 3, 10),\n",
        "#         \"min_child_weight\": trial.suggest_int(\"min_child_weight\", 1, 10),\n",
        "#         \"gamma\": trial.suggest_float(\"gamma\", 0.0, 1.0),\n",
        "#         \"subsample\": trial.suggest_float(\"subsample\", 0.6, 0.9),\n",
        "#         \"colsample_bytree\": trial.suggest_float(\"colsample_bytree\", 0.6, 0.9),\n",
        "#         \"reg_alpha\": trial.suggest_float(\"reg_alpha\", 0.0, 1.0),\n",
        "#         \"reg_lambda\": trial.suggest_float(\"reg_lambda\", 0.0, 1.0),\n",
        "#         \"learning_rate\": trial.suggest_float(\"learning_rate\", 0.01, 0.2),\n",
        "#         \"random_state\": 42,\n",
        "#         \"n_jobs\": -1,\n",
        "#         \"eval_metric\": \"logloss\"\n",
        "#     }\n",
        "\n",
        "#     # Entrenar modelo\n",
        "#     model = XGBClassifier(**params)\n",
        "#     model.fit(X_train_sm, y_train_sm)\n",
        "\n",
        "#     # Predecir y ajustar threshold\n",
        "#     y_proba = model.predict_proba(X_val)[:, 1]\n",
        "#     threshold = evaluate_thresholds(y_val, y_proba, metric='f1')\n",
        "#     y_pred = (y_proba >= threshold).astype(int)\n",
        "\n",
        "#     return f1_score(y_val, y_pred)\n",
        "\n",
        "# # 🧠 Crear estudio y optimizar\n",
        "# study = optuna.create_study(direction='maximize')\n",
        "# study.optimize(objective, n_trials=50, callbacks=[print_callback])\n",
        "\n",
        "# # ✅ Mostrar mejores hiperparámetros\n",
        "# print(\"\\n🧠 Mejores hiperparámetros encontrados:\")\n",
        "# for k, v in study.best_params.items():\n",
        "#     print(f\"{k:<20}: {v}\")\n",
        "# print(f\"\\n🔝 Mejor F1 Score: {study.best_value:.5f}\")\n",
        "\n",
        "# # ✅ Entrenamiento final con mejores hiperparámetros\n",
        "# best_params = {\n",
        "#     **study.best_params,\n",
        "#     \"eval_metric\": \"logloss\",\n",
        "#     \"n_jobs\": -1,\n",
        "#     \"random_state\": 42\n",
        "# }\n",
        "# final_model = XGBClassifier(**best_params)\n",
        "# final_model.fit(X_train_sm, y_train_sm)\n",
        "\n",
        "# # ✅ Evaluación final\n",
        "# y_proba_best = final_model.predict_proba(X_val)[:, 1]\n",
        "# best_threshold = evaluate_thresholds(y_val, y_proba_best)\n",
        "# y_pred_best = (y_proba_best >= best_threshold).astype(int)\n",
        "\n",
        "# from sklearn.metrics import classification_report, confusion_matrix, roc_auc_score, accuracy_score, precision_score, recall_score\n",
        "\n",
        "# print(\"\\n--- 📊 Evaluación FINAL del modelo optimizado ---\")\n",
        "# print(f\"Threshold    : {best_threshold:.4f}\")\n",
        "# print(f\"Accuracy     : {accuracy_score(y_val, y_pred_best):.4f}\")\n",
        "# print(f\"F1-score     : {f1_score(y_val, y_pred_best):.4f}\")\n",
        "# print(f\"Recall       : {recall_score(y_val, y_pred_best):.4f}\")\n",
        "# print(f\"Precision    : {precision_score(y_val, y_pred_best):.4f}\")\n",
        "# print(f\"ROC AUC      : {roc_auc_score(y_val, y_proba_best):.4f}\")\n",
        "# print(\"\\n\" + classification_report(y_val, y_pred_best, digits=4))\n",
        "# print(confusion_matrix(y_val, y_pred_best))\n",
        "\n",
        "# # ✅ Mostrar los mejores trials\n",
        "# print(\"\\n🔢 Top 5 mejores trials:\")\n",
        "# trials_df = study.trials_dataframe()\n",
        "# display(trials_df.sort_values(\"value\", ascending=False).head(5))\n"
      ],
      "metadata": {
        "id": "TCzTqpmNlQr2"
      },
      "id": "TCzTqpmNlQr2",
      "execution_count": null,
      "outputs": []
    },
    {
      "cell_type": "code",
      "source": [
        "# #PRIMER FINE TUNNING SIN THRESHOLD\n",
        "\n",
        "# from xgboost import XGBClassifier\n",
        "# from sklearn.metrics import accuracy_score, precision_score, recall_score, f1_score, roc_auc_score, classification_report, confusion_matrix\n",
        "\n",
        "# # ✅ Entrenamos el modelo con los mejores hiperparámetros\n",
        "# xgb_best = XGBClassifier(\n",
        "#     n_estimators=400,\n",
        "#     max_depth=10,\n",
        "#     learning_rate=0.2,\n",
        "#     subsample=0.8,\n",
        "#     colsample_bytree=1,\n",
        "#     gamma=0,\n",
        "#     use_label_encoder=False,\n",
        "#     eval_metric='logloss',\n",
        "#     random_state=42,\n",
        "#     n_jobs=-1\n",
        "# )\n",
        "\n",
        "# xgb_best.fit(X_train_sm, y_train_sm)\n",
        "\n",
        "# # ✅ Predicciones\n",
        "# y_pred = xgb_best.predict(X_val)\n",
        "# y_proba = xgb_best.predict_proba(X_val)[:, 1]\n",
        "\n",
        "# # ✅ Evaluación\n",
        "# f1 = f1_score(y_val, y_pred)\n",
        "# recall = recall_score(y_val, y_pred)\n",
        "# precision = precision_score(y_val, y_pred)\n",
        "# roc_auc = roc_auc_score(y_val, y_proba)\n",
        "# accuracy = accuracy_score(y_val, y_pred)\n",
        "\n",
        "# # ✅ Mostrar resultados\n",
        "# print(\"\\n--- Evaluación modelo final XGBoost ---\")\n",
        "# print(f\"Accuracy     : {accuracy:.4f}\")\n",
        "# print(f\"F1-score     : {f1:.4f}\")\n",
        "# print(f\"Recall       : {recall:.4f}\")\n",
        "# print(f\"Precision    : {precision:.4f}\")\n",
        "# print(f\"ROC AUC      : {roc_auc:.4f}\")\n",
        "\n",
        "# print(classification_report(y_val, y_pred, digits=4))\n",
        "# print(confusion_matrix(y_val, y_pred))"
      ],
      "metadata": {
        "id": "NVlrZhwDD8Au"
      },
      "id": "NVlrZhwDD8Au",
      "execution_count": null,
      "outputs": []
    }
  ],
  "metadata": {
    "kernelspec": {
      "display_name": "Python 3",
      "name": "python3"
    },
    "language_info": {
      "codemirror_mode": {
        "name": "ipython",
        "version": 3
      },
      "file_extension": ".py",
      "mimetype": "text/x-python",
      "name": "python",
      "nbconvert_exporter": "python",
      "pygments_lexer": "ipython3",
      "version": "3.10.6"
    },
    "colab": {
      "provenance": [],
      "collapsed_sections": [
        "ByKL8xJ9FHHb"
      ]
    }
  },
  "nbformat": 4,
  "nbformat_minor": 5
}